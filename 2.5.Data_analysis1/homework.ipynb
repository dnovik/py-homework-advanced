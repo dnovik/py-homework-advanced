{
 "cells": [
  {
   "cell_type": "code",
   "execution_count": 58,
   "metadata": {},
   "outputs": [],
   "source": [
    "import pandas as pd\n",
    "\n",
    "\n",
    "def get_data_by_year(year_list):\n",
    "\n",
    "    df_list = list()\n",
    "\n",
    "    for year in year_list:\n",
    "        file_path = f'names\\yob{year}.txt'\n",
    "        df = pd.read_csv(file_path, names=['Name', 'Gender', 'Qty'])\n",
    "        df['Year'] = year\n",
    "        df_list.append(df)\n",
    "    \n",
    "    return pd.concat(df_list)\n",
    "\n",
    "\n",
    "def count_top3(year_list):\n",
    "\n",
    "    df = get_data_by_year(year_list)\n",
    "    df_grouped = df.groupby(\n",
    "    by=['Name']).sum().reset_index()\n",
    "    top_3 = df_grouped.sort_values(by='Qty', ascending=False)\n",
    "\n",
    "    return top_3.head(3)['Name'].to_list()\n",
    "\n",
    "\n",
    "def count_dynamics(year_list):\n",
    "\n",
    "    df = get_data_by_year([1900, 1950, 2000])\n",
    "    df_grouped = df.groupby(\n",
    "        by=['Gender', 'Year']\n",
    "    ).sum()\n",
    "    df_grouped = df_grouped.reset_index()\n",
    "    result = dict()\n",
    "    result['F'] = df_grouped[df_grouped['Gender'] == 'F']['Qty'].to_list()\n",
    "    result['M'] = df_grouped[df_grouped['Gender'] == 'M']['Qty'].to_list()\n",
    "\n",
    "    return result\n"
   ]
  },
  {
   "cell_type": "code",
   "execution_count": 29,
   "metadata": {},
   "outputs": [
    {
     "data": {
      "text/plain": [
       "['James', 'John', 'Robert']"
      ]
     },
     "execution_count": 29,
     "metadata": {},
     "output_type": "execute_result"
    }
   ],
   "source": [
    "# получаем топ-3 имен за указанные года\n",
    "count_top3([1900, 1950, 2000])"
   ]
  },
  {
   "cell_type": "code",
   "execution_count": 59,
   "metadata": {},
   "outputs": [
    {
     "data": {
      "text/plain": [
       "{'F': [299798, 1713065, 1815295], 'M': [150480, 1790437, 1963202]}"
      ]
     },
     "execution_count": 59,
     "metadata": {},
     "output_type": "execute_result"
    }
   ],
   "source": [
    "# получаем динамику за указанные года\n",
    "count_dynamics([1900, 1950, 2000])"
   ]
  }
 ],
 "metadata": {
  "kernelspec": {
   "display_name": "Python 3",
   "language": "python",
   "name": "python3"
  },
  "language_info": {
   "codemirror_mode": {
    "name": "ipython",
    "version": 3
   },
   "file_extension": ".py",
   "mimetype": "text/x-python",
   "name": "python",
   "nbconvert_exporter": "python",
   "pygments_lexer": "ipython3",
   "version": "3.6.4"
  }
 },
 "nbformat": 4,
 "nbformat_minor": 2
}
