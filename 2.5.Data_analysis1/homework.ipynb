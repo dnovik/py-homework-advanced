{
 "cells": [
  {
   "cell_type": "code",
   "execution_count": null,
   "metadata": {},
   "outputs": [],
   "source": [
    "import pandas as pd\n",
    "\n",
    "\n",
    "def get_data_by_year(year_list):\n",
    "\n",
    "    df_list = list()\n",
    "\n",
    "    for year in year_list:\n",
    "        file_path = f'names\\yob{year}.txt'\n",
    "        df = pd.read_csv(file_path, names=['Name', 'Gender', 'Qty'])\n",
    "        df['Year'] = year\n",
    "        df_list.append(df)\n",
    "    \n",
    "    return pd.concat(df_list)\n",
    "\n",
    "\n",
    "def count_top3(year_list):\n",
    "\n",
    "    df = get_data_by_year(year_list)\n",
    "    top_3 = df.sort_values(by='Qty', ascending=False)\n",
    "\n",
    "    return top_3.head(3)['Name'].to_list()\n",
    "\n",
    "\n",
    "def count_dynamics(year_list):\n",
    "\n",
    "    df = get_data_by_year(year_list)\n",
    "    df_grouped = df.groupby(\n",
    "        by=['Gender', 'Year']\n",
    "    ).agg({\n",
    "        'Name' : 'count'\n",
    "    })\n",
    "\n",
    "    df_grouped = df_grouped.reset_index()\n",
    "\n",
    "    result = dict()\n",
    "    female_names = df_grouped[df_grouped['Gender'] == 'F']['Name'].to_list()\n",
    "    male_names = df_grouped[df_grouped['Gender'] == 'M']['Name'].to_list()\n",
    "    result['F'] = female_names\n",
    "    result['M'] = male_names\n",
    "\n",
    "    return result\n",
    "\n",
    "if __name__ == \"__main__\":\n",
    "    # получаем топ-3 имен за указанные года\n",
    "    count_top3([1900, 1950, 2000])\n",
    "\n",
    "    # получаем динамику за указанные года\n",
    "    count_dynamics([1900, 1950, 2000])\n"
   ]
  }
 ],
 "metadata": {
  "kernelspec": {
   "display_name": "Python 3",
   "language": "python",
   "name": "python3"
  },
  "language_info": {
   "codemirror_mode": {
    "name": "ipython",
    "version": 3
   },
   "file_extension": ".py",
   "mimetype": "text/x-python",
   "name": "python",
   "nbconvert_exporter": "python",
   "pygments_lexer": "ipython3",
   "version": "3.6.4"
  }
 },
 "nbformat": 4,
 "nbformat_minor": 2
}
